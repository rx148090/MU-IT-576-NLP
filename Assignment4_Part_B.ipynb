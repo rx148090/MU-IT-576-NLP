{
 "cells": [
  {
   "cell_type": "code",
   "execution_count": 1,
   "metadata": {},
   "outputs": [],
   "source": [
    "def classification_report(TP, TN, FP, FN, print_report = False):\n",
    "    report = {}\n",
    "    report['Accuracy'] = (TN + TP) / (TP + TN + FP + FN)\n",
    "    report['Precision'] = TP / (TP + FP)\n",
    "    report['Recall'] = TP / (TP + FN)\n",
    "    report['F1-Measure'] = 2 * report['Precision'] * report['Recall'] / (report['Precision'] + report['Recall'])\n",
    "    \n",
    "    if print_report:\n",
    "        print(\" Accuracy: {:<10} Precision: {:<10} recall: {:<10} f1_score: {:<10}\".format(\n",
    "                          round(report['Accuracy'],2), \n",
    "                          round(report['Precision'],2), \n",
    "                          round(report['Recall'],2),\n",
    "                          round(report['F1-Measure'],2))\n",
    "                          )\n",
    "    return report"
   ]
  },
  {
   "cell_type": "code",
   "execution_count": 2,
   "metadata": {},
   "outputs": [
    {
     "name": "stdout",
     "output_type": "stream",
     "text": [
      " Accuracy: 0.84       Precision: 0.6        recall: 0.75       f1_score: 0.67      \n"
     ]
    }
   ],
   "source": [
    "report = classification_report(3,13,2,1,print_report = True)"
   ]
  },
  {
   "cell_type": "code",
   "execution_count": null,
   "metadata": {},
   "outputs": [],
   "source": []
  }
 ],
 "metadata": {
  "kernelspec": {
   "display_name": "Python 3",
   "language": "python",
   "name": "python3"
  },
  "language_info": {
   "codemirror_mode": {
    "name": "ipython",
    "version": 3
   },
   "file_extension": ".py",
   "mimetype": "text/x-python",
   "name": "python",
   "nbconvert_exporter": "python",
   "pygments_lexer": "ipython3",
   "version": "3.7.9"
  }
 },
 "nbformat": 4,
 "nbformat_minor": 4
}
